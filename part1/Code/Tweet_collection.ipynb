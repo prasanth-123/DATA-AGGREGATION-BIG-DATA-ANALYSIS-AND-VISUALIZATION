{
 "cells": [
  {
   "cell_type": "code",
   "execution_count": null,
   "metadata": {},
   "outputs": [],
   "source": [
    "#sairampr\n",
    "#skothapa"
   ]
  },
  {
   "cell_type": "code",
   "execution_count": null,
   "metadata": {},
   "outputs": [],
   "source": [
    "install.packages(\"rtweet\")\n",
    "library(rtweet)\n",
    "\n",
    "twitter_token <- create_token(app = \"prasanthla\",\n",
    "consumer_key = \"YIOCdZHjofrpDWAobTBFJF9HL\",\n",
    "consumer_secret = \"qsuVR4MF7cdAlifOogjoEsAU5oU7Ir3EZFpYrGgDNizEy7iink\")\n",
    "\n",
    "tweets <- search_tweets(q = \"NFL\", n = 5000, token = twitter_token, geocode = lookup_coords(\"usa\"), include_rts = FALSE)\n",
    "tweets\n",
    "save_as_csv(tweets,\"Twitter_AmericanFootball.csv\")\n",
    "users_data(tweets)"
   ]
  }
 ],
 "metadata": {
  "kernelspec": {
   "display_name": "R",
   "language": "R",
   "name": "ir"
  },
  "language_info": {
   "codemirror_mode": "r",
   "file_extension": ".r",
   "mimetype": "text/x-r-source",
   "name": "R",
   "pygments_lexer": "r",
   "version": "3.5.1"
  }
 },
 "nbformat": 4,
 "nbformat_minor": 2
}
