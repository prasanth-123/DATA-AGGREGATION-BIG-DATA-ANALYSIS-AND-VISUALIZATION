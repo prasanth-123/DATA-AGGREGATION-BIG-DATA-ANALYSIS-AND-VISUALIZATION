{
 "cells": [
  {
   "cell_type": "code",
   "execution_count": null,
   "metadata": {},
   "outputs": [],
   "source": [
    "#sairampr\n",
    "#skothapa"
   ]
  },
  {
   "cell_type": "code",
   "execution_count": 6,
   "metadata": {},
   "outputs": [
    {
     "name": "stdout",
     "output_type": "stream",
     "text": [
      "{'how', 'further', 'y', 'should', 'm', 'until', 'was', 'been', \"hadn't\", \"hasn't\", \"mustn't\", 'but', 't', \"didn't\", 'itself', 'we', 'her', 'has', \"weren't\", 'my', 'other', 's', 'll', 've', \"wasn't\", \"wouldn't\", 'few', 'not', 'wasn', 'those', 'now', 'yourselves', \"needn't\", 'do', 'there', 'that', 'couldn', 'just', 'you', 'below', 'is', 'were', 'if', 'in', 'such', 'be', 'his', 'haven', 'did', 'weren', \"doesn't\", 'don', 'because', 'so', 'a', 'ours', \"don't\", 'more', 'by', 'same', 'these', 'doing', 'have', 'up', 'or', \"it's\", 'shouldn', \"mightn't\", 'mightn', 'any', \"you're\", 'am', 'will', 'through', 'at', 'all', 'again', 'yourself', 'against', 'd', 'the', 'down', 'them', 'having', 'as', 'hasn', 'didn', 'myself', \"you'd\", 'off', 'they', 'what', \"shan't\", 'he', 'very', 'o', 'an', 'me', 'are', 'their', 'from', \"couldn't\", 'mustn', \"won't\", 'it', 'i', 'wouldn', 'then', 'into', 'which', 'yours', \"you've\", 'your', 'isn', 'this', 'him', 'to', 'out', 'under', 'hadn', 'its', 'had', 'about', 'each', 'ma', \"isn't\", \"shouldn't\", 'won', 'above', 'between', 'both', 'than', 'hers', 'themselves', \"she's\", 'with', 'most', 'during', 'while', 'why', 're', \"aren't\", 'being', 'only', 'who', 'and', 'aren', \"should've\", 'when', 'once', 'nor', 'herself', 'where', 'after', 'some', \"haven't\", 'theirs', 'over', 'own', 'too', 'ain', 'himself', 'no', 'our', 'for', 'needn', 'doesn', 'on', \"you'll\", 'can', 'of', \"that'll\", 'does', 'before', 'whom', 'she', 'shan', 'here', 'ourselves'}\n"
     ]
    }
   ],
   "source": [
    "import io \n",
    "from nltk.corpus import stopwords \n",
    "from nltk.tokenize import word_tokenize \n",
    "#word_tokenize accepts a string as an input, not a file. \n",
    "stop_words = set(stopwords.words('english')) \n",
    "#print(stop_words)\n",
    "file1 = open(\"CC_sports.txt\") \n",
    "line = file1.read()  # Use this to read file content as a stream: \n",
    "line = line.lower()  #convert all the lines to lowercase\n",
    "words = line.split() #split the lines into words\n",
    "\n",
    "#removinf stopwords from the list\n",
    "\n",
    "for r in words: \n",
    "    if not r in stop_words: \n",
    "        appendFile = open('CC_sports_clean.txt','a') \n",
    "        appendFile.write(\" \"+r) \n",
    "        appendFile.close()"
   ]
  }
 ],
 "metadata": {
  "kernelspec": {
   "display_name": "Python 3",
   "language": "python",
   "name": "python3"
  },
  "language_info": {
   "codemirror_mode": {
    "name": "ipython",
    "version": 3
   },
   "file_extension": ".py",
   "mimetype": "text/x-python",
   "name": "python",
   "nbconvert_exporter": "python",
   "pygments_lexer": "ipython3",
   "version": "3.6.8"
  }
 },
 "nbformat": 4,
 "nbformat_minor": 2
}
